{
 "cells": [
  {
   "cell_type": "markdown",
   "metadata": {},
   "source": [
    "# Construção da base"
   ]
  },
  {
   "cell_type": "code",
   "execution_count": 1,
   "metadata": {},
   "outputs": [],
   "source": [
    "import pandas as pd\n",
    "import numpy as np\n",
    "\n",
    "import matplotlib.pyplot as plt\n",
    "import seaborn as sns\n",
    "\n",
    "import datetime as dt"
   ]
  },
  {
   "cell_type": "code",
   "execution_count": 2,
   "metadata": {},
   "outputs": [],
   "source": [
    "# número de linhas na base\n",
    "n = 150"
   ]
  },
  {
   "cell_type": "markdown",
   "metadata": {},
   "source": [
    "________\n",
    "### Base de gastos"
   ]
  },
  {
   "cell_type": "markdown",
   "metadata": {},
   "source": [
    "__Coluna de datas__"
   ]
  },
  {
   "cell_type": "code",
   "execution_count": 3,
   "metadata": {},
   "outputs": [
    {
     "data": {
      "text/plain": [
       "0      01-01-21\n",
       "1      01-01-21\n",
       "2      01-01-21\n",
       "3      01-01-21\n",
       "4      01-01-21\n",
       "         ...   \n",
       "145    30-01-21\n",
       "146    31-01-21\n",
       "147    31-01-21\n",
       "148    31-01-21\n",
       "149    31-01-21\n",
       "Length: 150, dtype: object"
      ]
     },
     "execution_count": 3,
     "metadata": {},
     "output_type": "execute_result"
    }
   ],
   "source": [
    "# criando série de datas aleatórios em janeiro\n",
    "# https://stackoverflow.com/questions/50559078/generating-random-dates-within-a-given-range-in-pandas\n",
    "\n",
    "def random_dates(start, end, n, unit='D'):\n",
    "\n",
    "    ndays = (end - start).days + 1\n",
    "    \n",
    "    dates = pd.to_timedelta(np.random.rand(n) * ndays, unit=unit) + start\n",
    "    \n",
    "    return pd.Series(dates).sort_values().apply(lambda x: x.date()).reset_index(drop=True)\n",
    "\n",
    "np.random.seed(42)\n",
    "start = pd.to_datetime('2021-01-01')\n",
    "end = pd.to_datetime('2021-01-31')\n",
    "\n",
    "# série de datas aleatórias, ordenadas\n",
    "dates = random_dates(start, end, n)\n",
    "\n",
    "# deixa no formato br\n",
    "dates = dates.apply(lambda x: dt.datetime.strftime(x, \"%d-%m-%y\"))\n",
    "\n",
    "dates"
   ]
  },
  {
   "cell_type": "markdown",
   "metadata": {},
   "source": [
    "__Coluna de nome de clientes__"
   ]
  },
  {
   "cell_type": "code",
   "execution_count": 4,
   "metadata": {},
   "outputs": [
    {
     "data": {
      "text/plain": [
       "Paulo Gomes          14\n",
       "Márcia Silva         12\n",
       "Ana Costa            11\n",
       "Antônio Oliveira     10\n",
       "Lucas Oliveira       10\n",
       "João Silva            9\n",
       "Luiz Alves            8\n",
       "Adriana Pereira       8\n",
       "Francisco Santos      8\n",
       "José Silva            7\n",
       "Sandra Souza          6\n",
       "Camila Santos         6\n",
       "Maria Alves           6\n",
       "Marcos Souza          6\n",
       "Juliana Costa         6\n",
       "Carlos Rodrigues      6\n",
       "Aline Rodrigues       5\n",
       "Pedro Ribeira         4\n",
       "Fernanda Oliveira     4\n",
       "Patrícia Pereira      4\n",
       "dtype: int64"
      ]
     },
     "metadata": {},
     "output_type": "display_data"
    },
    {
     "data": {
      "text/plain": [
       "True"
      ]
     },
     "execution_count": 4,
     "metadata": {},
     "output_type": "execute_result"
    }
   ],
   "source": [
    "# alguns dos nomes mais comuns no brasil https://pt.wikipedia.org/wiki/Lista_de_prenomes_mais_comuns_no_Brasil\n",
    "\n",
    "nomes1 = \"João José Antônio Francisco Carlos Pedro Paulo Lucas Luiz Marcos\".split()\n",
    "nomes2 = \"Maria Ana Adriana Juliana Márcia Fernanda Patrícia Aline Sandra Camila\".split()\n",
    "\n",
    "# série de nomes completa\n",
    "nomes_inicial = pd.Series(nomes1 + nomes2)\n",
    "\n",
    "# sobrenomes mais comuns\n",
    "# https://www.maioresemelhores.com/sobrenomes-mais-comuns-no-brasil/\n",
    "sobrenomes = \"Silva Santos Oliveira Souza Rodrigues Oliveira Alves Pereira Lima Gomes Costa Ribeira Martins\".split()\n",
    "sobrenomes = pd.Series(sobrenomes).sample(nomes_inicial.shape[0], replace=True).reset_index(drop=True)\n",
    "\n",
    "# juntando nomes e sobrenomes\n",
    "nomes_inicial = nomes_inicial + \" \" + sobrenomes\n",
    "\n",
    "# série de nomes amostrados aleatoriamente\n",
    "nomes = nomes_inicial.sample(n, random_state=42, replace=True).reset_index(drop=True)\n",
    "\n",
    "# check - tudo bem se tiver mais operações de certos clientes\n",
    "display(nomes.value_counts())\n",
    "\n",
    "nomes.value_counts().sum() == n"
   ]
  },
  {
   "cell_type": "markdown",
   "metadata": {},
   "source": [
    "__Colunas de gastos e número de parcelas__"
   ]
  },
  {
   "cell_type": "code",
   "execution_count": 5,
   "metadata": {},
   "outputs": [
    {
     "data": {
      "text/plain": [
       "count     150.000000\n",
       "mean      718.019400\n",
       "std       646.223867\n",
       "min        63.880000\n",
       "25%       324.227500\n",
       "50%       540.885000\n",
       "75%       851.025000\n",
       "max      4398.000000\n",
       "dtype: float64"
      ]
     },
     "metadata": {},
     "output_type": "display_data"
    },
    {
     "data": {
      "image/png": "[encoded data removed]",
      "text/plain": [
       "<Figure size 432x288 with 1 Axes>"
      ]
     },
     "metadata": {
      "needs_background": "light"
     },
     "output_type": "display_data"
    },
    {
     "data": {
      "text/plain": [
       "count    150.000000\n",
       "mean       3.793333\n",
       "std        2.329550\n",
       "min        1.000000\n",
       "25%        2.000000\n",
       "50%        4.000000\n",
       "75%        5.000000\n",
       "max       11.000000\n",
       "dtype: float64"
      ]
     },
     "metadata": {},
     "output_type": "display_data"
    }
   ],
   "source": [
    "# gerando distribuição log-normal com média e std 1k\n",
    "# tem que corrigir os parâmetros \n",
    "# vide https://stackoverflow.com/questions/51609299/python-np-lognormal-gives-infinite-results-for-big-average-and-st-dev\n",
    "\n",
    "mu, sigma = 0.8e3, 0.8e3\n",
    "\n",
    "# corrigindo os parâmetros\n",
    "normal_std = np.sqrt(np.log(1 + (sigma/mu)**2))\n",
    "normal_mean = np.log(mu) - normal_std**2 / 2\n",
    "\n",
    "# criando a série\n",
    "# arredonda pra duas casas decimais\n",
    "np.random.seed(42)\n",
    "gastos = pd.Series(np.random.lognormal(normal_mean, \n",
    "                                       normal_std, \n",
    "                                       n)).apply(lambda x: round(float(x), 2))\n",
    "\n",
    "# pra deixar mais realístico, vamos deixar 40% dos gastos como números inteiros\n",
    "ints = gastos.sample(frac=0.4).apply(lambda x: round(x, 0))\n",
    "gastos.loc[ints.index] = ints\n",
    "\n",
    "# check.. média e std próximos de 1k\n",
    "display(gastos.describe())\n",
    "\n",
    "# tem que se parecer com uma log-normal\n",
    "sns.histplot(gastos, kde=True)\n",
    "plt.show()\n",
    "\n",
    "#########################################################################################\n",
    "\n",
    "# número de parcelas\n",
    "# se gasto for menor que 100 reais, uma parcela\n",
    "# se for entre 100 e a média (1e3), parcela aleatória entre 1 e 5\n",
    "# se for maior que a média, parcela entre 1 e 11 (não 12 vezes pra não passar do ano)\n",
    "parcelas = gastos.apply(lambda x: \n",
    "                        1 if x < 100 else\n",
    "                        (np.random.randint(1, 6) if x < mu else np.random.randint(1, 12)))\n",
    "\n",
    "display(parcelas.describe())\n",
    "\n",
    "# #########################################################################################\n",
    "\n",
    "# pra dificultar rsrs\n",
    "gastos.loc[ints.index] = gastos.loc[ints.index].apply(lambda x: str(x) + \"0\")\n",
    "gastos = gastos.apply(lambda x: \"R$ \" + str(x)).apply(lambda x: x.replace(\".\", \",\"))"
   ]
  },
  {
   "cell_type": "code",
   "execution_count": 6,
   "metadata": {},
   "outputs": [
    {
     "data": {
      "text/html": [
       "<div>\n",
       "<style scoped>\n",
       "    .dataframe tbody tr th:only-of-type {\n",
       "        vertical-align: middle;\n",
       "    }\n",
       "\n",
       "    .dataframe tbody tr th {\n",
       "        vertical-align: top;\n",
       "    }\n",
       "\n",
       "    .dataframe thead th {\n",
       "        text-align: right;\n",
       "    }\n",
       "</style>\n",
       "<table border=\"1\" class=\"dataframe\">\n",
       "  <thead>\n",
       "    <tr style=\"text-align: right;\">\n",
       "      <th></th>\n",
       "      <th>nm_cliente</th>\n",
       "      <th>valor_operacao</th>\n",
       "      <th>num_parcelas</th>\n",
       "      <th>dt_operacao</th>\n",
       "      <th>mes_atual</th>\n",
       "    </tr>\n",
       "  </thead>\n",
       "  <tbody>\n",
       "    <tr>\n",
       "      <th>0</th>\n",
       "      <td>Paulo Gomes</td>\n",
       "      <td>R$ 855,00</td>\n",
       "      <td>5</td>\n",
       "      <td>01-01-21</td>\n",
       "      <td>jan/21</td>\n",
       "    </tr>\n",
       "    <tr>\n",
       "      <th>1</th>\n",
       "      <td>Camila Santos</td>\n",
       "      <td>R$ 504,18</td>\n",
       "      <td>2</td>\n",
       "      <td>01-01-21</td>\n",
       "      <td>jan/21</td>\n",
       "    </tr>\n",
       "    <tr>\n",
       "      <th>2</th>\n",
       "      <td>Márcia Silva</td>\n",
       "      <td>R$ 970,00</td>\n",
       "      <td>5</td>\n",
       "      <td>01-01-21</td>\n",
       "      <td>jan/21</td>\n",
       "    </tr>\n",
       "    <tr>\n",
       "      <th>3</th>\n",
       "      <td>Maria Alves</td>\n",
       "      <td>R$ 2010,31</td>\n",
       "      <td>7</td>\n",
       "      <td>01-01-21</td>\n",
       "      <td>jan/21</td>\n",
       "    </tr>\n",
       "    <tr>\n",
       "      <th>4</th>\n",
       "      <td>Lucas Oliveira</td>\n",
       "      <td>R$ 465,00</td>\n",
       "      <td>1</td>\n",
       "      <td>01-01-21</td>\n",
       "      <td>jan/21</td>\n",
       "    </tr>\n",
       "    <tr>\n",
       "      <th>...</th>\n",
       "      <td>...</td>\n",
       "      <td>...</td>\n",
       "      <td>...</td>\n",
       "      <td>...</td>\n",
       "      <td>...</td>\n",
       "    </tr>\n",
       "    <tr>\n",
       "      <th>145</th>\n",
       "      <td>Adriana Pereira</td>\n",
       "      <td>R$ 1084,58</td>\n",
       "      <td>10</td>\n",
       "      <td>30-01-21</td>\n",
       "      <td>jan/21</td>\n",
       "    </tr>\n",
       "    <tr>\n",
       "      <th>146</th>\n",
       "      <td>Luiz Alves</td>\n",
       "      <td>R$ 202,00</td>\n",
       "      <td>5</td>\n",
       "      <td>31-01-21</td>\n",
       "      <td>jan/21</td>\n",
       "    </tr>\n",
       "    <tr>\n",
       "      <th>147</th>\n",
       "      <td>Antônio Oliveira</td>\n",
       "      <td>R$ 188,42</td>\n",
       "      <td>5</td>\n",
       "      <td>31-01-21</td>\n",
       "      <td>jan/21</td>\n",
       "    </tr>\n",
       "    <tr>\n",
       "      <th>148</th>\n",
       "      <td>Paulo Gomes</td>\n",
       "      <td>R$ 874,00</td>\n",
       "      <td>3</td>\n",
       "      <td>31-01-21</td>\n",
       "      <td>jan/21</td>\n",
       "    </tr>\n",
       "    <tr>\n",
       "      <th>149</th>\n",
       "      <td>Pedro Ribeira</td>\n",
       "      <td>R$ 724,36</td>\n",
       "      <td>4</td>\n",
       "      <td>31-01-21</td>\n",
       "      <td>jan/21</td>\n",
       "    </tr>\n",
       "  </tbody>\n",
       "</table>\n",
       "<p>150 rows × 5 columns</p>\n",
       "</div>"
      ],
      "text/plain": [
       "           nm_cliente valor_operacao  num_parcelas dt_operacao mes_atual\n",
       "0         Paulo Gomes      R$ 855,00             5    01-01-21    jan/21\n",
       "1       Camila Santos      R$ 504,18             2    01-01-21    jan/21\n",
       "2        Márcia Silva      R$ 970,00             5    01-01-21    jan/21\n",
       "3         Maria Alves     R$ 2010,31             7    01-01-21    jan/21\n",
       "4      Lucas Oliveira      R$ 465,00             1    01-01-21    jan/21\n",
       "..                ...            ...           ...         ...       ...\n",
       "145   Adriana Pereira     R$ 1084,58            10    30-01-21    jan/21\n",
       "146        Luiz Alves      R$ 202,00             5    31-01-21    jan/21\n",
       "147  Antônio Oliveira      R$ 188,42             5    31-01-21    jan/21\n",
       "148       Paulo Gomes      R$ 874,00             3    31-01-21    jan/21\n",
       "149     Pedro Ribeira      R$ 724,36             4    31-01-21    jan/21\n",
       "\n",
       "[150 rows x 5 columns]"
      ]
     },
     "execution_count": 6,
     "metadata": {},
     "output_type": "execute_result"
    }
   ],
   "source": [
    "# construindo o dataframe\n",
    "\n",
    "df_gastos = pd.DataFrame()\n",
    "\n",
    "df_gastos[\"nm_cliente\"] = nomes\n",
    "\n",
    "df_gastos[\"valor_operacao\"] = gastos\n",
    "\n",
    "df_gastos[\"num_parcelas\"] = parcelas\n",
    "\n",
    "df_gastos[\"dt_operacao\"] = dates\n",
    "\n",
    "# pra dificultar hehe\n",
    "df_gastos[\"mes_atual\"] = \"jan/21\"\n",
    "\n",
    "df_gastos"
   ]
  },
  {
   "cell_type": "markdown",
   "metadata": {},
   "source": [
    "______\n",
    "### Base de limites"
   ]
  },
  {
   "cell_type": "code",
   "execution_count": 7,
   "metadata": {},
   "outputs": [
    {
     "data": {
      "text/plain": [
       "0                SILVA, JOÃO\n",
       "1             JOSÉ SILVA    \n",
       "2       Antônio Oliveira    \n",
       "3          Santos, Francisco\n",
       "4          Rodrigues, Carlos\n",
       "5          PEDRO RIBEIRA    \n",
       "6            Paulo Gomes    \n",
       "7         LUCAS OLIVEIRA    \n",
       "8             LUIZ ALVES    \n",
       "9           Marcos Souza    \n",
       "10           MARIA ALVES    \n",
       "11             ANA COSTA    \n",
       "12       Adriana Pereira    \n",
       "13            Costa, Juliana\n",
       "14             Silva, Márcia\n",
       "15     Fernanda Oliveira    \n",
       "16      Patrícia Pereira    \n",
       "17          Rodrigues, Aline\n",
       "18          SANDRA SOUZA    \n",
       "19         Camila Santos    \n",
       "dtype: object"
      ]
     },
     "execution_count": 7,
     "metadata": {},
     "output_type": "execute_result"
    }
   ],
   "source": [
    "# pra começar, vamos mexer um pouco na série de nomes\n",
    "\n",
    "# primeira coisa, vamos botar espaços extras no começo e no final\n",
    "nomes_final = \" \" + nomes_inicial + \"    \"\n",
    "\n",
    "# vamos escolher alguns nomes pra deixar em maiúscula\n",
    "maiuscula = nomes_final.sample(frac=0.4).apply(lambda x: x.upper())\n",
    "nomes_final.loc[maiuscula.index] = maiuscula\n",
    "\n",
    "# vamos escolher alguns nomes pra deixar no formato sobrenome, nome\n",
    "invertido = nomes_final.sample(frac=0.3).apply(lambda x: x.split()[1] + \", \" + x.split()[0])\n",
    "nomes_final.loc[invertido.index] = invertido\n",
    "\n",
    "nomes_final"
   ]
  },
  {
   "cell_type": "code",
   "execution_count": 8,
   "metadata": {},
   "outputs": [],
   "source": [
    "# limites, bem simples\n",
    "\n",
    "np.random.seed(42)\n",
    "limites = pd.Series(np.random.randint(1, 225, nomes_final.shape[0])*25)\n",
    "\n",
    "limites = limites.apply(lambda x: \"R$ \" + str(x) + \",00\")"
   ]
  },
  {
   "cell_type": "code",
   "execution_count": 9,
   "metadata": {},
   "outputs": [],
   "source": [
    "# datas de fechamento\n",
    "\n",
    "fechamento = pd.Series(pd.to_datetime(['2021-01-05', \n",
    "                                      '2021-01-15', \n",
    "                                      '2021-01-25'])).sample(nomes_final.shape[0],\n",
    "                                                             replace=True,\n",
    "                                                             random_state=42).reset_index(drop=True)\n",
    "\n",
    "fechamento = fechamento.apply(lambda x: dt.datetime.strftime(x, \"%d-%m-%y\"))"
   ]
  },
  {
   "cell_type": "code",
   "execution_count": 10,
   "metadata": {},
   "outputs": [
    {
     "data": {
      "text/html": [
       "<div>\n",
       "<style scoped>\n",
       "    .dataframe tbody tr th:only-of-type {\n",
       "        vertical-align: middle;\n",
       "    }\n",
       "\n",
       "    .dataframe tbody tr th {\n",
       "        vertical-align: top;\n",
       "    }\n",
       "\n",
       "    .dataframe thead th {\n",
       "        text-align: right;\n",
       "    }\n",
       "</style>\n",
       "<table border=\"1\" class=\"dataframe\">\n",
       "  <thead>\n",
       "    <tr style=\"text-align: right;\">\n",
       "      <th></th>\n",
       "      <th>cliente</th>\n",
       "      <th>limite</th>\n",
       "      <th>dt_fechamento</th>\n",
       "    </tr>\n",
       "  </thead>\n",
       "  <tbody>\n",
       "    <tr>\n",
       "      <th>0</th>\n",
       "      <td>SILVA, JOÃO</td>\n",
       "      <td>R$ 2575,00</td>\n",
       "      <td>25-01-21</td>\n",
       "    </tr>\n",
       "    <tr>\n",
       "      <th>1</th>\n",
       "      <td>JOSÉ SILVA</td>\n",
       "      <td>R$ 4500,00</td>\n",
       "      <td>05-01-21</td>\n",
       "    </tr>\n",
       "    <tr>\n",
       "      <th>2</th>\n",
       "      <td>Antônio Oliveira</td>\n",
       "      <td>R$ 2325,00</td>\n",
       "      <td>25-01-21</td>\n",
       "    </tr>\n",
       "    <tr>\n",
       "      <th>3</th>\n",
       "      <td>Santos, Francisco</td>\n",
       "      <td>R$ 375,00</td>\n",
       "      <td>25-01-21</td>\n",
       "    </tr>\n",
       "    <tr>\n",
       "      <th>4</th>\n",
       "      <td>Rodrigues, Carlos</td>\n",
       "      <td>R$ 2675,00</td>\n",
       "      <td>05-01-21</td>\n",
       "    </tr>\n",
       "    <tr>\n",
       "      <th>5</th>\n",
       "      <td>PEDRO RIBEIRA</td>\n",
       "      <td>R$ 1800,00</td>\n",
       "      <td>05-01-21</td>\n",
       "    </tr>\n",
       "    <tr>\n",
       "      <th>6</th>\n",
       "      <td>Paulo Gomes</td>\n",
       "      <td>R$ 4725,00</td>\n",
       "      <td>25-01-21</td>\n",
       "    </tr>\n",
       "    <tr>\n",
       "      <th>7</th>\n",
       "      <td>LUCAS OLIVEIRA</td>\n",
       "      <td>R$ 525,00</td>\n",
       "      <td>15-01-21</td>\n",
       "    </tr>\n",
       "    <tr>\n",
       "      <th>8</th>\n",
       "      <td>LUIZ ALVES</td>\n",
       "      <td>R$ 2575,00</td>\n",
       "      <td>25-01-21</td>\n",
       "    </tr>\n",
       "    <tr>\n",
       "      <th>9</th>\n",
       "      <td>Marcos Souza</td>\n",
       "      <td>R$ 3050,00</td>\n",
       "      <td>25-01-21</td>\n",
       "    </tr>\n",
       "    <tr>\n",
       "      <th>10</th>\n",
       "      <td>MARIA ALVES</td>\n",
       "      <td>R$ 5275,00</td>\n",
       "      <td>25-01-21</td>\n",
       "    </tr>\n",
       "    <tr>\n",
       "      <th>11</th>\n",
       "      <td>ANA COSTA</td>\n",
       "      <td>R$ 5375,00</td>\n",
       "      <td>25-01-21</td>\n",
       "    </tr>\n",
       "    <tr>\n",
       "      <th>12</th>\n",
       "      <td>Adriana Pereira</td>\n",
       "      <td>R$ 1875,00</td>\n",
       "      <td>05-01-21</td>\n",
       "    </tr>\n",
       "    <tr>\n",
       "      <th>13</th>\n",
       "      <td>Costa, Juliana</td>\n",
       "      <td>R$ 5075,00</td>\n",
       "      <td>25-01-21</td>\n",
       "    </tr>\n",
       "    <tr>\n",
       "      <th>14</th>\n",
       "      <td>Silva, Márcia</td>\n",
       "      <td>R$ 2200,00</td>\n",
       "      <td>15-01-21</td>\n",
       "    </tr>\n",
       "    <tr>\n",
       "      <th>15</th>\n",
       "      <td>Fernanda Oliveira</td>\n",
       "      <td>R$ 2925,00</td>\n",
       "      <td>05-01-21</td>\n",
       "    </tr>\n",
       "    <tr>\n",
       "      <th>16</th>\n",
       "      <td>Patrícia Pereira</td>\n",
       "      <td>R$ 2500,00</td>\n",
       "      <td>15-01-21</td>\n",
       "    </tr>\n",
       "    <tr>\n",
       "      <th>17</th>\n",
       "      <td>Rodrigues, Aline</td>\n",
       "      <td>R$ 2600,00</td>\n",
       "      <td>15-01-21</td>\n",
       "    </tr>\n",
       "    <tr>\n",
       "      <th>18</th>\n",
       "      <td>SANDRA SOUZA</td>\n",
       "      <td>R$ 3800,00</td>\n",
       "      <td>15-01-21</td>\n",
       "    </tr>\n",
       "    <tr>\n",
       "      <th>19</th>\n",
       "      <td>Camila Santos</td>\n",
       "      <td>R$ 3275,00</td>\n",
       "      <td>15-01-21</td>\n",
       "    </tr>\n",
       "  </tbody>\n",
       "</table>\n",
       "</div>"
      ],
      "text/plain": [
       "                   cliente      limite dt_fechamento\n",
       "0              SILVA, JOÃO  R$ 2575,00      25-01-21\n",
       "1           JOSÉ SILVA      R$ 4500,00      05-01-21\n",
       "2     Antônio Oliveira      R$ 2325,00      25-01-21\n",
       "3        Santos, Francisco   R$ 375,00      25-01-21\n",
       "4        Rodrigues, Carlos  R$ 2675,00      05-01-21\n",
       "5        PEDRO RIBEIRA      R$ 1800,00      05-01-21\n",
       "6          Paulo Gomes      R$ 4725,00      25-01-21\n",
       "7       LUCAS OLIVEIRA       R$ 525,00      15-01-21\n",
       "8           LUIZ ALVES      R$ 2575,00      25-01-21\n",
       "9         Marcos Souza      R$ 3050,00      25-01-21\n",
       "10         MARIA ALVES      R$ 5275,00      25-01-21\n",
       "11           ANA COSTA      R$ 5375,00      25-01-21\n",
       "12     Adriana Pereira      R$ 1875,00      05-01-21\n",
       "13          Costa, Juliana  R$ 5075,00      25-01-21\n",
       "14           Silva, Márcia  R$ 2200,00      15-01-21\n",
       "15   Fernanda Oliveira      R$ 2925,00      05-01-21\n",
       "16    Patrícia Pereira      R$ 2500,00      15-01-21\n",
       "17        Rodrigues, Aline  R$ 2600,00      15-01-21\n",
       "18        SANDRA SOUZA      R$ 3800,00      15-01-21\n",
       "19       Camila Santos      R$ 3275,00      15-01-21"
      ]
     },
     "execution_count": 10,
     "metadata": {},
     "output_type": "execute_result"
    }
   ],
   "source": [
    "df_limites = pd.DataFrame()\n",
    "\n",
    "# nome diferente de coluna\n",
    "df_limites[\"cliente\"] = nomes_final\n",
    "\n",
    "df_limites[\"limite\"] = limites\n",
    "\n",
    "df_limites[\"dt_fechamento\"] = fechamento\n",
    "\n",
    "df_limites"
   ]
  },
  {
   "cell_type": "markdown",
   "metadata": {},
   "source": [
    "__Exportando as bases__"
   ]
  },
  {
   "cell_type": "code",
   "execution_count": 11,
   "metadata": {},
   "outputs": [],
   "source": [
    "with pd.ExcelWriter(\"gastos_limites.xlsx\") as writer:\n",
    "    \n",
    "    df_gastos.to_excel(writer, sheet_name = \"gastos\")\n",
    "    \n",
    "    df_limites.to_excel(writer, sheet_name = \"limites\")"
   ]
  }
 ],
 "metadata": {
  "kernelspec": {
   "display_name": "Python 3",
   "language": "python",
   "name": "python3"
  },
  "language_info": {
   "codemirror_mode": {
    "name": "ipython",
    "version": 3
   },
   "file_extension": ".py",
   "mimetype": "text/x-python",
   "name": "python",
   "nbconvert_exporter": "python",
   "pygments_lexer": "ipython3",
   "version": "3.7.6"
  }
 },
 "nbformat": 4,
 "nbformat_minor": 4
}
